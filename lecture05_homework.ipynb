{
  "nbformat": 4,
  "nbformat_minor": 0,
  "metadata": {
    "accelerator": "GPU",
    "colab": {
      "provenance": [],
      "include_colab_link": true
    },
    "kernelspec": {
      "display_name": "Python 3",
      "language": "python",
      "name": "python3"
    },
    "language_info": {
      "codemirror_mode": {
        "name": "ipython",
        "version": 3
      },
      "file_extension": ".py",
      "mimetype": "text/x-python",
      "name": "python",
      "nbconvert_exporter": "python",
      "pygments_lexer": "ipython3",
      "version": "3.7.4"
    }
  },
  "cells": [
    {
      "cell_type": "markdown",
      "metadata": {
        "id": "view-in-github",
        "colab_type": "text"
      },
      "source": [
        "<a href=\"https://colab.research.google.com/github/KeishiIrisa/deeplearning-basic/blob/main/lecture05_homework.ipynb\" target=\"_parent\"><img src=\"https://colab.research.google.com/assets/colab-badge.svg\" alt=\"Open In Colab\"/></a>"
      ]
    },
    {
      "cell_type": "markdown",
      "metadata": {
        "id": "MUWcdth_khfN"
      },
      "source": [
        "# 第5回講義 宿題"
      ]
    },
    {
      "cell_type": "markdown",
      "metadata": {
        "id": "gAjuP7I4lWyn"
      },
      "source": [
        "## 課題\n",
        "\n",
        "今Lessonで学んだことに工夫を加えて，CNNでより高精度なCIFAR10の分類器を実装してみましょう．"
      ]
    },
    {
      "cell_type": "markdown",
      "metadata": {
        "id": "Cpiz19GRlZ_9"
      },
      "source": [
        "### 目標値\n",
        "\n",
        "Accuracy 76%"
      ]
    },
    {
      "cell_type": "markdown",
      "metadata": {
        "id": "qSHeI_utleEN"
      },
      "source": [
        "### ルール\n",
        "\n",
        "\n",
        "- 訓練データは`x_train`， `t_train`，テストデータは`x_test`で与えられます．\n",
        "- 予測ラベルは one_hot表現ではなく0~9のクラスラベル で表してください．\n",
        "- **下のセルで指定されている`x_train`，`t_train`以外の学習データは使わないでください．**\n",
        "- Pytorchを利用して構いません．\n",
        "- 今回から基本的にAPI制限はありません．\n",
        "- ただしCNNベースでないモデル（Vision Transformerなど）やtorchvision等の既存モデル，学習済みモデルは用いないでください．"
      ]
    },
    {
      "cell_type": "markdown",
      "metadata": {
        "id": "diuec-_YluI6"
      },
      "source": [
        "### 提出方法\n",
        "\n",
        "- 2つのファイルを提出していただきます．\n",
        "    1. テストデータ (`x_test`) に対する予測ラベルを`submission_pred.csv`として保存し，**Omnicampusの宿題タブから「第5回 畳み込みニューラルネットワーク」を選択して**提出してください．\n",
        "    2. それに対応するpythonのコードを`submission_code.py`として保存し，**Omnicampusの宿題タブから「第5回 畳み込みニューラルネットワーク (code)」を選択して**提出してください．pythonファイル自体の提出ではなく，「提出内容」の部分にコードをコピー&ペーストしてください．\n",
        "      \n",
        "- なお，採点は1で行い，2はコードの確認用として利用します（成績優秀者はコード内容を公開させていただくかもしれません）．コードの内容を変更した場合は，**1と2の両方を提出し直してください**．"
      ]
    },
    {
      "cell_type": "markdown",
      "metadata": {
        "id": "hofSzJsVlvKp"
      },
      "source": [
        "### 評価方法\n",
        "\n",
        "- 予測ラベルの`t_test`に対する精度 (Accuracy) で評価します．\n",
        "- 即時採点しLeader Boardを更新します（採点スケジュールは別アナウンス）．\n",
        "- 締切時の点数を最終的な評価とします．"
      ]
    },
    {
      "cell_type": "code",
      "source": [
        "# ドライブのマウント\n",
        "from google.colab import drive\n",
        "drive.mount('/content/drive')"
      ],
      "metadata": {
        "id": "8dS-Kfw6fBxm",
        "colab": {
          "base_uri": "https://localhost:8080/"
        },
        "outputId": "9a076509-925f-4c29-eea2-6aa2955bdb81"
      },
      "execution_count": null,
      "outputs": [
        {
          "output_type": "stream",
          "name": "stdout",
          "text": [
            "Mounted at /content/drive\n"
          ]
        }
      ]
    },
    {
      "cell_type": "markdown",
      "metadata": {
        "id": "Cu4cmQtelx19"
      },
      "source": [
        "### データの読み込み（この部分は修正しないでください）"
      ]
    },
    {
      "cell_type": "code",
      "metadata": {
        "id": "EsLDDSUJkRx-"
      },
      "source": [
        "import random\n",
        "\n",
        "import numpy as np\n",
        "import pandas as pd\n",
        "import torch\n",
        "from torchvision import transforms\n",
        "from tqdm import tqdm_notebook as tqdm\n",
        "from PIL import Image\n",
        "from sklearn.model_selection import train_test_split\n",
        "\n",
        "#学習データ\n",
        "x_train = np.load('drive/MyDrive/Colab Notebooks/DLBasics2025_colab/Lecture05/data/x_train.npy')\n",
        "t_train = np.load('drive/MyDrive/Colab Notebooks/DLBasics2025_colab/Lecture05/data/t_train.npy')\n",
        "\n",
        "#テストデータ\n",
        "x_test = np.load('drive/MyDrive/Colab Notebooks/DLBasics2025_colab/Lecture05/data/x_test.npy')\n",
        "\n",
        "class train_dataset(torch.utils.data.Dataset):\n",
        "    def __init__(self, x_train, t_train):\n",
        "        data = x_train.astype('float32')\n",
        "        self.x_train = []\n",
        "        for i in range(data.shape[0]):\n",
        "            self.x_train.append(Image.fromarray(np.uint8(data[i])))\n",
        "        self.t_train = t_train\n",
        "        self.transform = transforms.ToTensor()\n",
        "\n",
        "    def __len__(self):\n",
        "        return len(self.x_train)\n",
        "\n",
        "    def __getitem__(self, idx):\n",
        "        return self.transform(self.x_train[idx]), torch.tensor(t_train[idx], dtype=torch.long)\n",
        "\n",
        "class test_dataset(torch.utils.data.Dataset):\n",
        "    def __init__(self, x_test):\n",
        "        data = x_test.astype('float32')\n",
        "        self.x_test = []\n",
        "        for i in range(data.shape[0]):\n",
        "            self.x_test.append(Image.fromarray(np.uint8(data[i])))\n",
        "        self.transform = transforms.ToTensor()\n",
        "\n",
        "    def __len__(self):\n",
        "        return len(self.x_test)\n",
        "\n",
        "    def __getitem__(self, idx):\n",
        "        return self.transform(self.x_test[idx])\n",
        "\n",
        "trainval_data = train_dataset(x_train, t_train)\n",
        "test_data = test_dataset(x_test)"
      ],
      "execution_count": 4,
      "outputs": []
    },
    {
      "cell_type": "markdown",
      "metadata": {
        "id": "UrSpHDIWOfK_"
      },
      "source": [
        "### 畳み込みニューラルネットワーク(CNN)の実装"
      ]
    },
    {
      "cell_type": "code",
      "metadata": {
        "id": "sKAe0F36nSvU",
        "colab": {
          "base_uri": "https://localhost:8080/"
        },
        "outputId": "a13e83bc-3fb2-4630-c977-458f9a83e9ce"
      },
      "source": [
        "def fix_seed(seed=1234):\n",
        "    random.seed(seed)\n",
        "    np.random.seed(seed)\n",
        "    torch.manual_seed(seed)\n",
        "\n",
        "\n",
        "fix_seed(seed=42)\n",
        "\n",
        "\n",
        "class gcn():\n",
        "    def __init__(self):\n",
        "        pass\n",
        "\n",
        "    def __call__(self, x):\n",
        "        mean = torch.mean(x)\n",
        "        std = torch.std(x)\n",
        "        return (x - mean)/(std + 10**(-6))  # 0除算を防ぐ\n",
        "\n",
        "\n",
        "class ZCAWhitening():\n",
        "    def __init__(self, epsilon=1e-4, device=\"cuda\"):  # 計算が重いのでGPUを用いる\n",
        "        self.epsilon = epsilon\n",
        "        self.device = device\n",
        "\n",
        "    def fit(self, images):  # 変換行列と平均をデータから計算\n",
        "        x = images[0][0].reshape(1, -1)\n",
        "        self.mean = torch.zeros([1, x.size()[1]]).to(self.device)\n",
        "        con_matrix = torch.zeros([x.size()[1], x.size()[1]]).to(self.device)\n",
        "        for i in range(len(images)):  # 各データについての平均を取る\n",
        "            x = images[i][0].reshape(1, -1).to(self.device)\n",
        "            self.mean += x / len(images)\n",
        "            con_matrix += torch.mm(x.t(), x) / len(images)\n",
        "            if i % 10000 == 0:\n",
        "                print(\"{0}/{1}\".format(i, len(images)))\n",
        "        self.E, self.V = torch.linalg.eigh(con_matrix)  # 固有値分解\n",
        "        self.E = torch.max(self.E, torch.zeros_like(self.E)) # 誤差の影響で負になるのを防ぐ\n",
        "        self.ZCA_matrix = torch.mm(torch.mm(self.V, torch.diag((self.E.squeeze()+self.epsilon)**(-0.5))), self.V.t())\n",
        "        print(\"completed!\")\n",
        "\n",
        "    def __call__(self, x):\n",
        "        size = x.size()\n",
        "        x = x.reshape(1, -1).to(self.device)\n",
        "        x -= self.mean\n",
        "        x = torch.mm(x, self.ZCA_matrix.t())\n",
        "        x = x.reshape(tuple(size))\n",
        "        x = x.to(\"cpu\")\n",
        "        return x\n",
        "\n",
        "\n",
        "# (datasetのクラスを自作したので，このあたりの処理が少し変わっています)\n",
        "\n",
        "zca = ZCAWhitening()\n",
        "zca.fit(trainval_data)\n",
        "\n",
        "val_size = 3000\n",
        "train_data, val_data = torch.utils.data.random_split(trainval_data, [len(trainval_data)-val_size, val_size])  # 訓練データと検証データに分割\n",
        "\n",
        "\n",
        "# 前処理を定義\n",
        "transform_train = transforms.Compose([transforms.ToTensor(), zca])\n",
        "\n",
        "transform = transforms.Compose([transforms.ToTensor(), zca])\n",
        "\n",
        "# データセットに前処理を設定\n",
        "trainval_data.transform = transform_train\n",
        "test_data.transform = transform\n",
        "\n",
        "batch_size = 64\n",
        "\n",
        "dataloader_train = torch.utils.data.DataLoader(\n",
        "    train_data,\n",
        "    batch_size=batch_size,\n",
        "    shuffle=True\n",
        ")\n",
        "\n",
        "dataloader_valid = torch.utils.data.DataLoader(\n",
        "    val_data,\n",
        "    batch_size=batch_size,\n",
        "    shuffle=True\n",
        ")\n",
        "\n",
        "dataloader_test = torch.utils.data.DataLoader(\n",
        "    test_data,\n",
        "    batch_size=batch_size,\n",
        "    shuffle=False\n",
        ")\n"
      ],
      "execution_count": 5,
      "outputs": [
        {
          "output_type": "stream",
          "name": "stdout",
          "text": [
            "0/50000\n",
            "10000/50000\n",
            "20000/50000\n",
            "30000/50000\n",
            "40000/50000\n",
            "completed!\n"
          ]
        }
      ]
    },
    {
      "cell_type": "code",
      "metadata": {
        "id": "PADQiKNa2snb",
        "colab": {
          "base_uri": "https://localhost:8080/"
        },
        "outputId": "b6fef90b-7fb0-40c1-dbf7-a98713d34d6f"
      },
      "source": [
        "import torch.nn as nn\n",
        "import torch.optim as optim\n",
        "import torch.autograd as autograd\n",
        "import torch.nn.functional as F\n",
        "import torchvision.models as models\n",
        "\n",
        "rng = np.random.RandomState(1234)\n",
        "random_state = 42\n",
        "device = torch.device(\"cuda\" if torch.cuda.is_available() else \"cpu\")\n",
        "\n",
        "\n",
        "conv_net = models.resnet34(pretrained=False)\n",
        "\n",
        "conv_net.fc = nn.Linear(conv_net.fc.in_features, 10)\n",
        "torch.nn.init.kaiming_normal_(conv_net.fc.weight)\n",
        "conv_net.fc.bias.data.fill_(0.0)\n",
        "\n",
        "\n",
        "n_epochs = 10\n",
        "lr = 0.01\n",
        "device = 'cuda'\n",
        "\n",
        "conv_net.to(device)\n",
        "optimizer = optim.Adam(conv_net.parameters(), lr=lr)\n",
        "loss_function = nn.CrossEntropyLoss()"
      ],
      "execution_count": 10,
      "outputs": [
        {
          "output_type": "stream",
          "name": "stderr",
          "text": [
            "/usr/local/lib/python3.11/dist-packages/torchvision/models/_utils.py:208: UserWarning: The parameter 'pretrained' is deprecated since 0.13 and may be removed in the future, please use 'weights' instead.\n",
            "  warnings.warn(\n",
            "/usr/local/lib/python3.11/dist-packages/torchvision/models/_utils.py:223: UserWarning: Arguments other than a weight enum or `None` for 'weights' are deprecated since 0.13 and may be removed in the future. The current behavior is equivalent to passing `weights=None`.\n",
            "  warnings.warn(msg)\n"
          ]
        }
      ]
    },
    {
      "cell_type": "code",
      "metadata": {
        "id": "nlOZuLu-328i",
        "colab": {
          "base_uri": "https://localhost:8080/"
        },
        "outputId": "7c80fb88-e799-46d7-d27f-c46b0e49a38a"
      },
      "source": [
        "for epoch in range(n_epochs):\n",
        "    losses_train = []\n",
        "    losses_valid = []\n",
        "\n",
        "    conv_net.train()\n",
        "    n_train = 0\n",
        "    acc_train = 0\n",
        "    for x, t in dataloader_train:\n",
        "        n_train += t.size()[0]\n",
        "\n",
        "        conv_net.zero_grad()\n",
        "\n",
        "        x = x.to(device)\n",
        "        t = t.to(device)\n",
        "\n",
        "        y = conv_net.forward(x)\n",
        "\n",
        "        loss = loss_function(y, t)\n",
        "\n",
        "        loss.backward()\n",
        "        optimizer.step()\n",
        "\n",
        "        pred = y.argmax(1)\n",
        "\n",
        "        acc_train += (pred == t).float().sum().item()\n",
        "        losses_train.append(loss.tolist())\n",
        "\n",
        "    conv_net.eval()\n",
        "    n_val = 0\n",
        "    acc_val = 0\n",
        "    for x, t in dataloader_valid:\n",
        "        n_val = t.size()[0]\n",
        "\n",
        "        x = x.to(device)\n",
        "        t = t.to(device)\n",
        "\n",
        "        y = conv_net.forward(x)\n",
        "\n",
        "        loss = loss_function(y, t)\n",
        "\n",
        "        pred = y.argmax(1)\n",
        "\n",
        "        acc_val += (pred == t).float().sum().item()\n",
        "        losses_valid.append(loss.tolist())\n",
        "\n",
        "    print('EPOCH: {}, Train [Loss: {:.3f}, Accuracy: {:.3f}], Valid [Loss: {:.3f}, Accuracy: {:.3f}]'.format(\n",
        "        epoch,\n",
        "        np.mean(losses_train),\n",
        "        acc_train/n_train,\n",
        "        np.mean(losses_valid),\n",
        "        acc_val/n_val\n",
        "    ))"
      ],
      "execution_count": 11,
      "outputs": [
        {
          "output_type": "stream",
          "name": "stdout",
          "text": [
            "EPOCH: 0, Train [Loss: 2.198, Accuracy: 0.242], Valid [Loss: 1.648, Accuracy: 19.911]\n",
            "EPOCH: 1, Train [Loss: 1.476, Accuracy: 0.455], Valid [Loss: 1.237, Accuracy: 28.982]\n",
            "EPOCH: 2, Train [Loss: 1.086, Accuracy: 0.613], Valid [Loss: 0.968, Accuracy: 35.125]\n",
            "EPOCH: 3, Train [Loss: 0.893, Accuracy: 0.689], Valid [Loss: 0.860, Accuracy: 37.321]\n",
            "EPOCH: 4, Train [Loss: 0.766, Accuracy: 0.735], Valid [Loss: 0.873, Accuracy: 37.429]\n",
            "EPOCH: 5, Train [Loss: 0.649, Accuracy: 0.774], Valid [Loss: 0.737, Accuracy: 40.071]\n",
            "EPOCH: 6, Train [Loss: 0.567, Accuracy: 0.803], Valid [Loss: 0.763, Accuracy: 40.179]\n",
            "EPOCH: 7, Train [Loss: 0.479, Accuracy: 0.833], Valid [Loss: 0.738, Accuracy: 40.393]\n",
            "EPOCH: 8, Train [Loss: 0.402, Accuracy: 0.861], Valid [Loss: 0.775, Accuracy: 40.482]\n",
            "EPOCH: 9, Train [Loss: 0.330, Accuracy: 0.885], Valid [Loss: 0.850, Accuracy: 40.089]\n"
          ]
        }
      ]
    },
    {
      "cell_type": "code",
      "metadata": {
        "id": "Yq3scS5j4Rt2"
      },
      "source": [
        "conv_net.eval()\n",
        "\n",
        "t_pred = []\n",
        "for x in dataloader_test:\n",
        "\n",
        "    x = x.to(device)\n",
        "\n",
        "    # 順伝播\n",
        "    y = conv_net.forward(x)\n",
        "\n",
        "    # モデルの出力を予測値のスカラーに変換\n",
        "    pred = y.argmax(1).tolist()\n",
        "\n",
        "    t_pred.extend(pred)\n",
        "\n",
        "submission = pd.Series(t_pred, name='label')\n",
        "submission.to_csv('drive/MyDrive/Colab Notebooks/DLBasics2025_colab/Lecture05/submission_pred.csv', header=True, index_label='id')"
      ],
      "execution_count": 14,
      "outputs": []
    },
    {
      "cell_type": "code",
      "source": [
        "type(val_data)"
      ],
      "metadata": {
        "colab": {
          "base_uri": "https://localhost:8080/",
          "height": 191
        },
        "id": "spnHgjcvsmwf",
        "outputId": "50174ad7-9514-4371-9d1e-4e45ebcf92a2"
      },
      "execution_count": null,
      "outputs": [
        {
          "output_type": "execute_result",
          "data": {
            "text/plain": [
              "torch.utils.data.dataset.Subset"
            ],
            "text/html": [
              "<div style=\"max-width:800px; border: 1px solid var(--colab-border-color);\"><style>\n",
              "      pre.function-repr-contents {\n",
              "        overflow-x: auto;\n",
              "        padding: 8px 12px;\n",
              "        max-height: 500px;\n",
              "      }\n",
              "\n",
              "      pre.function-repr-contents.function-repr-contents-collapsed {\n",
              "        cursor: pointer;\n",
              "        max-height: 100px;\n",
              "      }\n",
              "    </style>\n",
              "    <pre style=\"white-space: initial; background:\n",
              "         var(--colab-secondary-surface-color); padding: 8px 12px;\n",
              "         border-bottom: 1px solid var(--colab-border-color);\"><b>torch.utils.data.dataset.Subset</b><br/>def __init__(dataset: Dataset[_T_co], indices: Sequence[int]) -&gt; None</pre><pre class=\"function-repr-contents function-repr-contents-collapsed\" style=\"\"><a class=\"filepath\" style=\"display:none\" href=\"#\">/usr/local/lib/python3.11/dist-packages/torch/utils/data/dataset.py</a>Subset of a dataset at specified indices.\n",
              "\n",
              "Args:\n",
              "    dataset (Dataset): The whole Dataset\n",
              "    indices (sequence): Indices in the whole set selected for subset</pre>\n",
              "      <script>\n",
              "      if (google.colab.kernel.accessAllowed && google.colab.files && google.colab.files.view) {\n",
              "        for (const element of document.querySelectorAll('.filepath')) {\n",
              "          element.style.display = 'block'\n",
              "          element.onclick = (event) => {\n",
              "            event.preventDefault();\n",
              "            event.stopPropagation();\n",
              "            google.colab.files.view(element.textContent, 393);\n",
              "          };\n",
              "        }\n",
              "      }\n",
              "      for (const element of document.querySelectorAll('.function-repr-contents')) {\n",
              "        element.onclick = (event) => {\n",
              "          event.preventDefault();\n",
              "          event.stopPropagation();\n",
              "          element.classList.toggle('function-repr-contents-collapsed');\n",
              "        };\n",
              "      }\n",
              "      </script>\n",
              "      </div>"
            ]
          },
          "metadata": {},
          "execution_count": 12
        }
      ]
    },
    {
      "cell_type": "code",
      "source": [
        "from sklearn.metrics import classification_report\n",
        "conv_net.eval()\n",
        "p_pred = []\n",
        "p_true = []\n",
        "\n",
        "with torch.torch.no_grad():\n",
        "  for x, t in dataloader_valid:\n",
        "    x = x.to(device)\n",
        "    t = t.to(device)\n",
        "\n",
        "    y = conv_net(x)\n",
        "    pred = y.argmax(1)\n",
        "\n",
        "    p_pred.extend(pred.cpu().tolist())\n",
        "    p_true.extend(t.cpu().tolist())\n",
        "\n",
        "print(classification_report(p_true, p_pred))"
      ],
      "metadata": {
        "colab": {
          "base_uri": "https://localhost:8080/"
        },
        "id": "sLW2XGUar-88",
        "outputId": "082a5808-4f27-4f0d-e7ce-7836ec37fb57"
      },
      "execution_count": 13,
      "outputs": [
        {
          "output_type": "stream",
          "name": "stdout",
          "text": [
            "              precision    recall  f1-score   support\n",
            "\n",
            "           0       0.82      0.72      0.77       306\n",
            "           1       0.80      0.92      0.85       278\n",
            "           2       0.76      0.61      0.67       319\n",
            "           3       0.49      0.71      0.58       261\n",
            "           4       0.72      0.77      0.74       277\n",
            "           5       0.77      0.52      0.62       355\n",
            "           6       0.76      0.85      0.80       286\n",
            "           7       0.82      0.79      0.81       285\n",
            "           8       0.81      0.88      0.84       335\n",
            "           9       0.81      0.77      0.79       298\n",
            "\n",
            "    accuracy                           0.75      3000\n",
            "   macro avg       0.76      0.75      0.75      3000\n",
            "weighted avg       0.76      0.75      0.75      3000\n",
            "\n"
          ]
        }
      ]
    }
  ]
}