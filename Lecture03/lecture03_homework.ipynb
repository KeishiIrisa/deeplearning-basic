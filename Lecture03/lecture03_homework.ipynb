{
 "cells": [
  {
   "cell_type": "markdown",
   "metadata": {
    "id": "MUWcdth_khfN"
   },
   "source": [
    "# 第3回講義 宿題"
   ]
  },
  {
   "cell_type": "markdown",
   "metadata": {
    "id": "gAjuP7I4lWyn"
   },
   "source": [
    "## 課題\n",
    "\n",
    "今回のLessonで学んだことを元に，MNISTのファッション版 (Fashion MNIST，クラス数10) を多層パーセプトロンによって分類してみましょう．\n",
    "\n",
    "Fashion MNISTの詳細については以下のリンクを参考にしてください．\n",
    "\n",
    "Fashion MNIST: https://github.com/zalandoresearch/fashion-mnist"
   ]
  },
  {
   "cell_type": "markdown",
   "metadata": {
    "id": "Cpiz19GRlZ_9"
   },
   "source": [
    "### 目標値\n",
    "\n",
    "Accuracy 85%"
   ]
  },
  {
   "cell_type": "markdown",
   "metadata": {
    "id": "qSHeI_utleEN"
   },
   "source": [
    "### ルール\n",
    "\n",
    "- 訓練データは`x_train`， `t_train`，テストデータは`x_test`で与えられます．\n",
    "- 予測ラベルは one_hot表現ではなく0~9のクラスラベル で表してください．\n",
    "- **下のセルで指定されている`x_train`，`t_train`以外の学習データは使わないでください．**\n",
    "- **多層パーセプトロンのアルゴリズム部分は第3回の演習を参考に，NumPyのみで実装してください．** (sklearnやtensorflowなどは使用しないでください)．\n",
    "    - データの前処理部分でsklearnの関数を使う (例えば `sklearn.model_selection.train_test_split`) のは問題ありません．"
   ]
  },
  {
   "cell_type": "markdown",
   "metadata": {
    "id": "diuec-_YluI6"
   },
   "source": [
    "### 提出方法\n",
    "- 2つのファイルを提出していただきます．\n",
    "    1. テストデータ (`x_test`) に対する予測ラベルを`submission_pred.csv`として保存し，**Omnicampusの宿題タブから「第3回 ニューラルネットワーク基礎」を選択して**提出してください．\n",
    "    2. それに対応するpythonのコードを`submission_code.py`として保存し，**Omnicampusの宿題タブから「第3回 ニューラルネットワーク基礎 (code)」を選択して**提出してください．pythonファイル自体の提出ではなく，「提出内容」の部分にコードをコピー&ペーストしてください．\n",
    "      \n",
    "- なお，採点は1で行い，2はコードの確認用として利用します（成績優秀者はコード内容を公開させていただくかもしれません）．コードの内容を変更した場合は，**1と2の両方を提出し直してください**．"
   ]
  },
  {
   "cell_type": "markdown",
   "metadata": {
    "id": "hofSzJsVlvKp"
   },
   "source": [
    "### 評価方法\n",
    "- 予測ラベルの`t_test`に対する精度 (Accuracy) で評価します．\n",
    "- 即時採点しLeader Boardを更新します（採点スケジュールは別アナウンス）．\n",
    "- 締切時の点数を最終的な評価とします．"
   ]
  },
  {
   "cell_type": "markdown",
   "metadata": {
    "id": "YY9xMqFk8X5g"
   },
   "source": [
    "### ドライブのマウント"
   ]
  },
  {
   "cell_type": "code",
   "execution_count": null,
   "metadata": {
    "id": "bxtkyWpYv07M"
   },
   "outputs": [],
   "source": [
    "from google.colab import drive\n",
    "drive.mount('/content/drive')"
   ]
  },
  {
   "cell_type": "markdown",
   "metadata": {
    "id": "Cu4cmQtelx19"
   },
   "source": [
    "### データの読み込み（このセルは修正しないでください）"
   ]
  },
  {
   "cell_type": "code",
   "execution_count": null,
   "metadata": {
    "id": "EsLDDSUJkRx-"
   },
   "outputs": [],
   "source": [
    "import os\n",
    "import numpy as np\n",
    "import pandas as pd\n",
    "from sklearn.utils import shuffle\n",
    "from sklearn.metrics import accuracy_score\n",
    "from sklearn.model_selection import train_test_split\n",
    "import inspect\n",
    "\n",
    "\n",
    "#学習データ\n",
    "x_train = np.load('drive/MyDrive/Colab Notebooks/DLBasics2025_colab/Lecture03/data/x_train.npy')\n",
    "t_train = np.load('drive/MyDrive/Colab Notebooks/DLBasics2025_colab/Lecture03/data/y_train.npy')\n",
    "\n",
    "#テストデータ\n",
    "x_test = np.load('drive/MyDrive/Colab Notebooks/DLBasics2025_colab/Lecture03/data/x_test.npy')\n",
    "\n",
    "# データの前処理（正規化， one-hot encoding)\n",
    "x_train, x_test = x_train / 255., x_test / 255.\n",
    "x_train, x_test = x_train.reshape(x_train.shape[0], -1), x_test.reshape(x_test.shape[0], -1)\n",
    "t_train = np.eye(N=10)[t_train.astype(\"int32\").flatten()]"
   ]
  },
  {
   "cell_type": "code",
   "execution_count": 1,
   "metadata": {},
   "outputs": [],
   "source": [
    "import os\n",
    "import numpy as np\n",
    "import pandas as pd\n",
    "from sklearn.utils import shuffle\n",
    "from sklearn.metrics import accuracy_score\n",
    "from sklearn.model_selection import train_test_split\n",
    "import inspect\n",
    "\n",
    "\n",
    "#学習データ\n",
    "x_train = np.load('x_train.npy')\n",
    "t_train = np.load('y_train.npy')\n",
    "\n",
    "#テストデータ\n",
    "x_test = np.load('x_test.npy')\n",
    "\n",
    "# データの前処理（正規化， one-hot encoding)\n",
    "x_train, x_test = x_train / 255., x_test / 255.\n",
    "x_train, x_test = x_train.reshape(x_train.shape[0], -1), x_test.reshape(x_test.shape[0], -1)\n",
    "t_train = np.eye(N=10)[t_train.astype(\"int32\").flatten()]"
   ]
  },
  {
   "cell_type": "markdown",
   "metadata": {
    "id": "UrSpHDIWOfK_"
   },
   "source": [
    "### 多層パーセプトロンの実装"
   ]
  },
  {
   "cell_type": "code",
   "execution_count": 2,
   "metadata": {
    "id": "sKAe0F36nSvU"
   },
   "outputs": [],
   "source": [
    "# データの分割\n",
    "x_train, x_val, t_train, t_val =\\\n",
    "    train_test_split(x_train, t_train, test_size=10000)"
   ]
  },
  {
   "cell_type": "code",
   "execution_count": 3,
   "metadata": {
    "id": "IlzwRoG5X7ZP"
   },
   "outputs": [],
   "source": [
    "def np_log(x):\n",
    "    return np.log(np.clip(x, 1e-10, 1e+10))\n",
    "\n",
    "\n",
    "def create_batch(data, batch_size):\n",
    "    \"\"\"\n",
    "    :param data: np.ndarray，入力データ\n",
    "    :param batch_size: int，バッチサイズ\n",
    "    \"\"\"\n",
    "    num_batches, mod = divmod(data.shape[0], batch_size)\n",
    "    batched_data = np.split(data[: batch_size * num_batches], num_batches)\n",
    "    if mod:\n",
    "        batched_data.append(data[batch_size * num_batches:])\n",
    "\n",
    "    return batched_data"
   ]
  },
  {
   "cell_type": "code",
   "execution_count": null,
   "metadata": {
    "id": "PADQiKNa2snb"
   },
   "outputs": [],
   "source": [
    "# シード値を変えることで何が起きるかも確かめてみてください．\n",
    "rng = np.random.RandomState(1234)\n",
    "random_state = 42\n",
    "\n",
    "\n",
    "# 発展: 今回の講義で扱っていない活性化関数について調べ，実装してみましょう\n",
    "def relu(x):\n",
    "    return np.maximum(0, x)\n",
    "\n",
    "\n",
    "def deriv_relu(x):\n",
    "    return (x > 0).astype(x.dtype)\n",
    "\n",
    "\n",
    "def softmax(x):\n",
    "    x -= x.max(axis=1, keepdims=True)\n",
    "    x_exp = np.exp(x)\n",
    "    return x_exp / x_exp.sum(axis=1, keepdims=True)\n",
    "\n",
    "\n",
    "def deriv_softmax(x):\n",
    "    s = softmax(x)\n",
    "    return s * (1 - s)\n",
    "\n",
    "\n",
    "def crossentropy_loss(t, y):\n",
    "    return (-np.sum(t * np_log(y), axis=1)).mean()\n",
    "\n",
    "class Dense:\n",
    "    def __init__(self, in_dim, out_dim, function, deriv_function):\n",
    "        self.W = np.random.uniform(low=-0.08, high=0.08, size=(in_dim, out_dim)).astype(\"float64\")\n",
    "        self.b = np.zeros(out_dim).astype(\"float64\")\n",
    "        self.function = function\n",
    "        self.deriv_function = deriv_function\n",
    "        \n",
    "        self.x = None\n",
    "        self.u = None\n",
    "\n",
    "        self.dW = None\n",
    "        self.db = None\n",
    "\n",
    "        self.params_idxs = np.cumsum([self.W.size, self.b.size])\n",
    "    \n",
    "    def __call__(self, x):\n",
    "        self.x = x\n",
    "        self.u = np.matmul(self.x, self.W) + self.b\n",
    "        h = self.function(self.u)\n",
    "        return h\n",
    "    \n",
    "    def b_prop(self, delta, W):\n",
    "        self.delta = self.deriv_function(self.u) * np.matmul(delta, W.T)\n",
    "        return self.delta\n",
    "    \n",
    "    def compute_grad(self):\n",
    "        batch_size = self.delta.shape[0]\n",
    "        self.dW = np.matmul(self.x.T, self.delta) / batch_size\n",
    "        self.db = np.matmul(np.ones(batch_size), self.delta) / batch_size\n",
    "    \n",
    "    def get_params(self):\n",
    "        return np.concatenate([self.W.ravel(), self.b], axis=0)\n",
    "    \n",
    "    def set_params(self, params):\n",
    "        _W, _b = np.split(params, self.params_idxs[:-1])\n",
    "        self.W = _W.reshape(self.W.shape)\n",
    "        self.b = _b\n",
    "\n",
    "    def get_grads(self):\n",
    "        return np.concatenate([self.dW.ravel(), self.db], axis=0)\n",
    "\n",
    "class Model:\n",
    "    def __init__(self, hidden_dims, activation_functions, deriv_functions):\n",
    "        self.layers = []\n",
    "        for i in range(len(hidden_dims) - 2):\n",
    "            self.layers.append(Dense(hidden_dims[i], hidden_dims[i + 1], activation_functions[i], deriv_functions[i]))\n",
    "        self.layers.append(Dense(hidden_dims[-2], hidden_dims[-1], activation_functions[-1], deriv_functions[-1]))\n",
    "    \n",
    "    def __call__(self, x):\n",
    "        return self.forward(x)\n",
    "\n",
    "    def forward(self, x):\n",
    "        for layer in self.layers:\n",
    "            x = layer(x)\n",
    "        return x\n",
    "    \n",
    "    def backward(self, delta):\n",
    "        batch_size = delta.shape[0]\n",
    "\n",
    "        for i, layer in enumerate(self.layers[::-1]):\n",
    "            if i == 0:\n",
    "                layer.delta = delta\n",
    "                layer.compute_grad()\n",
    "            else:\n",
    "                delta = layer.b_prop(delta, W)\n",
    "                layer.compute_grad()\n",
    "            \n",
    "            W = layer.W\n",
    "    \n",
    "    def update(self, eps=0.01):\n",
    "        for layer in self.layers:\n",
    "            layer.W -= eps * layer.dW\n",
    "            layer.b -= eps * layer.db\n",
    "lr = 0.01\n",
    "n_epochs = 100\n",
    "batch_size = 32\n"
   ]
  },
  {
   "cell_type": "markdown",
   "metadata": {
    "id": "I1IXxVHfT9O9"
   },
   "source": [
    "### モデルの学習"
   ]
  },
  {
   "cell_type": "code",
   "execution_count": 18,
   "metadata": {
    "id": "iUrJQQhUlfCi"
   },
   "outputs": [
    {
     "name": "stdout",
     "output_type": "stream",
     "text": [
      "EPOCH: 0, Train [Loss: 1.214, Accuracy: 0.592], Valid [Loss: 0.704, Accuracy: 0.749]\n",
      "EPOCH: 1, Train [Loss: 0.627, Accuracy: 0.779], Valid [Loss: 0.572, Accuracy: 0.798]\n",
      "EPOCH: 2, Train [Loss: 0.535, Accuracy: 0.812], Valid [Loss: 0.497, Accuracy: 0.824]\n",
      "EPOCH: 3, Train [Loss: 0.494, Accuracy: 0.826], Valid [Loss: 0.487, Accuracy: 0.827]\n",
      "EPOCH: 4, Train [Loss: 0.469, Accuracy: 0.835], Valid [Loss: 0.464, Accuracy: 0.836]\n",
      "EPOCH: 5, Train [Loss: 0.450, Accuracy: 0.841], Valid [Loss: 0.463, Accuracy: 0.834]\n",
      "EPOCH: 6, Train [Loss: 0.434, Accuracy: 0.848], Valid [Loss: 0.442, Accuracy: 0.846]\n",
      "EPOCH: 7, Train [Loss: 0.422, Accuracy: 0.852], Valid [Loss: 0.425, Accuracy: 0.851]\n",
      "EPOCH: 8, Train [Loss: 0.410, Accuracy: 0.856], Valid [Loss: 0.429, Accuracy: 0.850]\n",
      "EPOCH: 9, Train [Loss: 0.400, Accuracy: 0.859], Valid [Loss: 0.425, Accuracy: 0.853]\n",
      "EPOCH: 10, Train [Loss: 0.391, Accuracy: 0.863], Valid [Loss: 0.417, Accuracy: 0.854]\n",
      "EPOCH: 11, Train [Loss: 0.381, Accuracy: 0.866], Valid [Loss: 0.392, Accuracy: 0.864]\n",
      "EPOCH: 12, Train [Loss: 0.374, Accuracy: 0.868], Valid [Loss: 0.395, Accuracy: 0.861]\n",
      "EPOCH: 13, Train [Loss: 0.366, Accuracy: 0.871], Valid [Loss: 0.394, Accuracy: 0.863]\n",
      "EPOCH: 14, Train [Loss: 0.360, Accuracy: 0.873], Valid [Loss: 0.379, Accuracy: 0.866]\n",
      "EPOCH: 15, Train [Loss: 0.353, Accuracy: 0.876], Valid [Loss: 0.383, Accuracy: 0.865]\n",
      "EPOCH: 16, Train [Loss: 0.347, Accuracy: 0.878], Valid [Loss: 0.366, Accuracy: 0.871]\n",
      "EPOCH: 17, Train [Loss: 0.341, Accuracy: 0.880], Valid [Loss: 0.361, Accuracy: 0.873]\n",
      "EPOCH: 18, Train [Loss: 0.335, Accuracy: 0.881], Valid [Loss: 0.353, Accuracy: 0.876]\n",
      "EPOCH: 19, Train [Loss: 0.330, Accuracy: 0.883], Valid [Loss: 0.386, Accuracy: 0.865]\n",
      "EPOCH: 20, Train [Loss: 0.325, Accuracy: 0.884], Valid [Loss: 0.364, Accuracy: 0.872]\n",
      "EPOCH: 21, Train [Loss: 0.319, Accuracy: 0.886], Valid [Loss: 0.352, Accuracy: 0.875]\n",
      "EPOCH: 22, Train [Loss: 0.315, Accuracy: 0.889], Valid [Loss: 0.366, Accuracy: 0.870]\n",
      "EPOCH: 23, Train [Loss: 0.310, Accuracy: 0.890], Valid [Loss: 0.355, Accuracy: 0.870]\n",
      "EPOCH: 24, Train [Loss: 0.306, Accuracy: 0.891], Valid [Loss: 0.344, Accuracy: 0.875]\n",
      "EPOCH: 25, Train [Loss: 0.301, Accuracy: 0.893], Valid [Loss: 0.342, Accuracy: 0.877]\n",
      "EPOCH: 26, Train [Loss: 0.296, Accuracy: 0.894], Valid [Loss: 0.349, Accuracy: 0.873]\n",
      "EPOCH: 27, Train [Loss: 0.292, Accuracy: 0.896], Valid [Loss: 0.331, Accuracy: 0.883]\n",
      "EPOCH: 28, Train [Loss: 0.289, Accuracy: 0.896], Valid [Loss: 0.339, Accuracy: 0.878]\n",
      "EPOCH: 29, Train [Loss: 0.285, Accuracy: 0.898], Valid [Loss: 0.321, Accuracy: 0.883]\n",
      "EPOCH: 30, Train [Loss: 0.282, Accuracy: 0.900], Valid [Loss: 0.367, Accuracy: 0.867]\n",
      "EPOCH: 31, Train [Loss: 0.277, Accuracy: 0.900], Valid [Loss: 0.331, Accuracy: 0.882]\n",
      "EPOCH: 32, Train [Loss: 0.275, Accuracy: 0.901], Valid [Loss: 0.344, Accuracy: 0.876]\n",
      "EPOCH: 33, Train [Loss: 0.272, Accuracy: 0.901], Valid [Loss: 0.336, Accuracy: 0.879]\n",
      "EPOCH: 34, Train [Loss: 0.268, Accuracy: 0.904], Valid [Loss: 0.345, Accuracy: 0.874]\n",
      "EPOCH: 35, Train [Loss: 0.264, Accuracy: 0.905], Valid [Loss: 0.313, Accuracy: 0.887]\n",
      "EPOCH: 36, Train [Loss: 0.261, Accuracy: 0.905], Valid [Loss: 0.339, Accuracy: 0.879]\n",
      "EPOCH: 37, Train [Loss: 0.259, Accuracy: 0.905], Valid [Loss: 0.317, Accuracy: 0.887]\n",
      "EPOCH: 38, Train [Loss: 0.255, Accuracy: 0.908], Valid [Loss: 0.341, Accuracy: 0.877]\n",
      "EPOCH: 39, Train [Loss: 0.252, Accuracy: 0.908], Valid [Loss: 0.320, Accuracy: 0.886]\n",
      "EPOCH: 40, Train [Loss: 0.250, Accuracy: 0.908], Valid [Loss: 0.311, Accuracy: 0.888]\n",
      "EPOCH: 41, Train [Loss: 0.247, Accuracy: 0.910], Valid [Loss: 0.307, Accuracy: 0.890]\n",
      "EPOCH: 42, Train [Loss: 0.245, Accuracy: 0.911], Valid [Loss: 0.309, Accuracy: 0.890]\n",
      "EPOCH: 43, Train [Loss: 0.242, Accuracy: 0.912], Valid [Loss: 0.335, Accuracy: 0.882]\n",
      "EPOCH: 44, Train [Loss: 0.239, Accuracy: 0.913], Valid [Loss: 0.351, Accuracy: 0.872]\n",
      "EPOCH: 45, Train [Loss: 0.236, Accuracy: 0.914], Valid [Loss: 0.314, Accuracy: 0.889]\n",
      "EPOCH: 46, Train [Loss: 0.233, Accuracy: 0.915], Valid [Loss: 0.316, Accuracy: 0.888]\n",
      "EPOCH: 47, Train [Loss: 0.231, Accuracy: 0.916], Valid [Loss: 0.306, Accuracy: 0.891]\n",
      "EPOCH: 48, Train [Loss: 0.229, Accuracy: 0.916], Valid [Loss: 0.346, Accuracy: 0.881]\n",
      "EPOCH: 49, Train [Loss: 0.225, Accuracy: 0.918], Valid [Loss: 0.311, Accuracy: 0.889]\n",
      "EPOCH: 50, Train [Loss: 0.224, Accuracy: 0.918], Valid [Loss: 0.340, Accuracy: 0.879]\n",
      "EPOCH: 51, Train [Loss: 0.221, Accuracy: 0.920], Valid [Loss: 0.303, Accuracy: 0.895]\n",
      "EPOCH: 52, Train [Loss: 0.219, Accuracy: 0.921], Valid [Loss: 0.320, Accuracy: 0.889]\n",
      "EPOCH: 53, Train [Loss: 0.216, Accuracy: 0.922], Valid [Loss: 0.309, Accuracy: 0.891]\n",
      "EPOCH: 54, Train [Loss: 0.214, Accuracy: 0.923], Valid [Loss: 0.352, Accuracy: 0.878]\n",
      "EPOCH: 55, Train [Loss: 0.212, Accuracy: 0.923], Valid [Loss: 0.316, Accuracy: 0.890]\n",
      "EPOCH: 56, Train [Loss: 0.210, Accuracy: 0.924], Valid [Loss: 0.309, Accuracy: 0.890]\n",
      "EPOCH: 57, Train [Loss: 0.208, Accuracy: 0.925], Valid [Loss: 0.310, Accuracy: 0.894]\n",
      "Learning rate reduced to 0.00800\n",
      "EPOCH: 58, Train [Loss: 0.199, Accuracy: 0.927], Valid [Loss: 0.303, Accuracy: 0.894]\n",
      "EPOCH: 59, Train [Loss: 0.198, Accuracy: 0.928], Valid [Loss: 0.308, Accuracy: 0.895]\n",
      "EPOCH: 60, Train [Loss: 0.195, Accuracy: 0.930], Valid [Loss: 0.349, Accuracy: 0.879]\n",
      "EPOCH: 61, Train [Loss: 0.194, Accuracy: 0.930], Valid [Loss: 0.309, Accuracy: 0.894]\n",
      "EPOCH: 62, Train [Loss: 0.193, Accuracy: 0.930], Valid [Loss: 0.324, Accuracy: 0.891]\n",
      "EPOCH: 63, Train [Loss: 0.191, Accuracy: 0.931], Valid [Loss: 0.327, Accuracy: 0.891]\n",
      "Learning rate reduced to 0.00640\n",
      "EPOCH: 64, Train [Loss: 0.184, Accuracy: 0.934], Valid [Loss: 0.314, Accuracy: 0.893]\n",
      "EPOCH: 65, Train [Loss: 0.183, Accuracy: 0.935], Valid [Loss: 0.312, Accuracy: 0.897]\n",
      "EPOCH: 66, Train [Loss: 0.181, Accuracy: 0.935], Valid [Loss: 0.327, Accuracy: 0.891]\n",
      "EPOCH: 67, Train [Loss: 0.180, Accuracy: 0.935], Valid [Loss: 0.311, Accuracy: 0.896]\n",
      "EPOCH: 68, Train [Loss: 0.179, Accuracy: 0.935], Valid [Loss: 0.310, Accuracy: 0.895]\n",
      "EPOCH: 69, Train [Loss: 0.177, Accuracy: 0.936], Valid [Loss: 0.312, Accuracy: 0.895]\n",
      "Learning rate reduced to 0.00512\n",
      "EPOCH: 70, Train [Loss: 0.172, Accuracy: 0.938], Valid [Loss: 0.309, Accuracy: 0.895]\n",
      "EPOCH: 71, Train [Loss: 0.171, Accuracy: 0.940], Valid [Loss: 0.315, Accuracy: 0.892]\n",
      "EPOCH: 72, Train [Loss: 0.169, Accuracy: 0.940], Valid [Loss: 0.309, Accuracy: 0.896]\n",
      "EPOCH: 73, Train [Loss: 0.169, Accuracy: 0.940], Valid [Loss: 0.317, Accuracy: 0.890]\n",
      "EPOCH: 74, Train [Loss: 0.167, Accuracy: 0.941], Valid [Loss: 0.310, Accuracy: 0.895]\n",
      "EPOCH: 75, Train [Loss: 0.166, Accuracy: 0.940], Valid [Loss: 0.310, Accuracy: 0.896]\n",
      "Learning rate reduced to 0.00410\n",
      "EPOCH: 76, Train [Loss: 0.162, Accuracy: 0.943], Valid [Loss: 0.318, Accuracy: 0.895]\n",
      "EPOCH: 77, Train [Loss: 0.161, Accuracy: 0.944], Valid [Loss: 0.311, Accuracy: 0.896]\n",
      "EPOCH: 78, Train [Loss: 0.160, Accuracy: 0.943], Valid [Loss: 0.307, Accuracy: 0.895]\n",
      "EPOCH: 79, Train [Loss: 0.159, Accuracy: 0.944], Valid [Loss: 0.325, Accuracy: 0.892]\n",
      "EPOCH: 80, Train [Loss: 0.158, Accuracy: 0.944], Valid [Loss: 0.316, Accuracy: 0.892]\n",
      "EPOCH: 81, Train [Loss: 0.158, Accuracy: 0.944], Valid [Loss: 0.313, Accuracy: 0.896]\n",
      "Learning rate reduced to 0.00328\n",
      "EPOCH: 82, Train [Loss: 0.154, Accuracy: 0.946], Valid [Loss: 0.312, Accuracy: 0.896]\n",
      "EPOCH: 83, Train [Loss: 0.153, Accuracy: 0.946], Valid [Loss: 0.316, Accuracy: 0.896]\n",
      "EPOCH: 84, Train [Loss: 0.152, Accuracy: 0.948], Valid [Loss: 0.312, Accuracy: 0.896]\n",
      "EPOCH: 85, Train [Loss: 0.151, Accuracy: 0.947], Valid [Loss: 0.314, Accuracy: 0.893]\n",
      "EPOCH: 86, Train [Loss: 0.150, Accuracy: 0.948], Valid [Loss: 0.318, Accuracy: 0.896]\n",
      "EPOCH: 87, Train [Loss: 0.150, Accuracy: 0.947], Valid [Loss: 0.330, Accuracy: 0.893]\n",
      "Learning rate reduced to 0.00262\n",
      "EPOCH: 88, Train [Loss: 0.147, Accuracy: 0.950], Valid [Loss: 0.312, Accuracy: 0.897]\n",
      "EPOCH: 89, Train [Loss: 0.146, Accuracy: 0.949], Valid [Loss: 0.314, Accuracy: 0.896]\n",
      "EPOCH: 90, Train [Loss: 0.146, Accuracy: 0.950], Valid [Loss: 0.311, Accuracy: 0.895]\n",
      "EPOCH: 91, Train [Loss: 0.145, Accuracy: 0.950], Valid [Loss: 0.312, Accuracy: 0.896]\n",
      "EPOCH: 92, Train [Loss: 0.144, Accuracy: 0.950], Valid [Loss: 0.315, Accuracy: 0.897]\n",
      "EPOCH: 93, Train [Loss: 0.144, Accuracy: 0.950], Valid [Loss: 0.316, Accuracy: 0.895]\n",
      "Learning rate reduced to 0.00210\n",
      "EPOCH: 94, Train [Loss: 0.142, Accuracy: 0.952], Valid [Loss: 0.316, Accuracy: 0.895]\n",
      "EPOCH: 95, Train [Loss: 0.141, Accuracy: 0.952], Valid [Loss: 0.314, Accuracy: 0.896]\n",
      "EPOCH: 96, Train [Loss: 0.140, Accuracy: 0.952], Valid [Loss: 0.315, Accuracy: 0.895]\n",
      "EPOCH: 97, Train [Loss: 0.140, Accuracy: 0.953], Valid [Loss: 0.313, Accuracy: 0.898]\n",
      "EPOCH: 98, Train [Loss: 0.139, Accuracy: 0.953], Valid [Loss: 0.317, Accuracy: 0.897]\n",
      "EPOCH: 99, Train [Loss: 0.139, Accuracy: 0.952], Valid [Loss: 0.321, Accuracy: 0.895]\n",
      "Learning rate reduced to 0.00168\n"
     ]
    }
   ],
   "source": [
    "def train_model(mlp, x_train, t_train, x_val, t_val, n_epochs=10):\n",
    "    best_valid_cost = float('inf')\n",
    "    patience = 0\n",
    "    patience_threshold = 3\n",
    "    improvement_threshold = 1e-4\n",
    "    eps_reduction_factor = 0.8\n",
    "    eps_minimum_threshold = 0.15\n",
    "    eps = 0.01\n",
    "    for epoch in range(n_epochs):\n",
    "        losses_train = []\n",
    "        losses_valid = []\n",
    "        train_num = 0\n",
    "        train_true_num = 0\n",
    "        valid_num = 0\n",
    "        valid_true_num = 0\n",
    "\n",
    "        x_train, t_train = shuffle(x_train, t_train)\n",
    "        x_train_batches, t_train_batches = create_batch(x_train, batch_size), create_batch(t_train, batch_size)\n",
    "\n",
    "        x_val, t_val = shuffle(x_val, t_val)\n",
    "        x_val_batches, t_val_batches = create_batch(x_val, batch_size), create_batch(t_val, batch_size)\n",
    "\n",
    "        # モデルの訓練\n",
    "        for x, t in zip(x_train_batches, t_train_batches):\n",
    "            # 順伝播\n",
    "            y = mlp(x)\n",
    "\n",
    "            # 損失の計算\n",
    "            loss = crossentropy_loss(t, y)\n",
    "            losses_train.append(loss.tolist())\n",
    "\n",
    "            # パラメータの更新\n",
    "            delta = y - t\n",
    "            mlp.backward(delta)\n",
    "            mlp.update(eps)\n",
    "\n",
    "            # 精度を計算\n",
    "            acc = accuracy_score(t.argmax(axis=1), y.argmax(axis=1), normalize=False)\n",
    "            train_num += x.shape[0]\n",
    "            train_true_num += acc\n",
    "\n",
    "        # モデルの評価\n",
    "        for x, t in zip(x_val_batches, t_val_batches):\n",
    "            # 順伝播\n",
    "            y = mlp(x)\n",
    "\n",
    "            # 損失の計算\n",
    "            loss = crossentropy_loss(t, y)\n",
    "            losses_valid.append(loss.tolist())\n",
    "\n",
    "            acc = accuracy_score(t.argmax(axis=1), y.argmax(axis=1), normalize=False)\n",
    "            valid_num += x.shape[0]\n",
    "            valid_true_num += acc\n",
    "\n",
    "        print('EPOCH: {}, Train [Loss: {:.3f}, Accuracy: {:.3f}], Valid [Loss: {:.3f}, Accuracy: {:.3f}]'.format(\n",
    "            epoch,\n",
    "            np.mean(losses_train),\n",
    "            train_true_num/train_num,\n",
    "            np.mean(losses_valid),\n",
    "            valid_true_num/valid_num\n",
    "        ))\n",
    "\n",
    "        valid_cost = np.mean(losses_valid)\n",
    "        if best_valid_cost - valid_cost > improvement_threshold:\n",
    "            best_valid_cost = valid_cost\n",
    "            patience = 0\n",
    "        else:\n",
    "            patience += 1\n",
    "\n",
    "        if patience > patience_threshold:\n",
    "            eps *= eps_reduction_factor\n",
    "            patience = 0\n",
    "            print('Learning rate reduced to {:.5f}'.format(eps))\n",
    "\n",
    "mlp = Model(\n",
    "    hidden_dims=[784, 100, 100, 10],\n",
    "    activation_functions=[relu, relu, softmax],\n",
    "    deriv_functions=[deriv_relu, deriv_relu, deriv_softmax]\n",
    ")\n",
    "\n",
    "n_epochs = 100\n",
    "train_model(mlp, x_train, t_train, x_val, t_val, n_epochs)"
   ]
  },
  {
   "cell_type": "code",
   "execution_count": 19,
   "metadata": {
    "id": "Yq3scS5j4Rt2"
   },
   "outputs": [],
   "source": [
    "t_pred = []\n",
    "for x in x_test:\n",
    "    # 順伝播\n",
    "    x = x[np.newaxis, :]\n",
    "    y = mlp(x)\n",
    "\n",
    "    # モデルの出力を予測値のスカラーに変換\n",
    "    pred = y.argmax(1).tolist()\n",
    "\n",
    "    t_pred.extend(pred)\n",
    "\n",
    "submission = pd.Series(t_pred, name='label')\n",
    "submission.to_csv('submission_pred.csv', header=True, index_label='id')"
   ]
  }
 ],
 "metadata": {
  "colab": {
   "provenance": [],
   "toc_visible": true
  },
  "gpuClass": "standard",
  "kernelspec": {
   "display_name": ".venv",
   "language": "python",
   "name": "python3"
  },
  "language_info": {
   "codemirror_mode": {
    "name": "ipython",
    "version": 3
   },
   "file_extension": ".py",
   "mimetype": "text/x-python",
   "name": "python",
   "nbconvert_exporter": "python",
   "pygments_lexer": "ipython3",
   "version": "3.13.2"
  }
 },
 "nbformat": 4,
 "nbformat_minor": 0
}
