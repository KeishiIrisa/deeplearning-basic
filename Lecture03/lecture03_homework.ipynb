{
 "cells": [
  {
   "cell_type": "markdown",
   "metadata": {
    "id": "MUWcdth_khfN"
   },
   "source": [
    "# 第3回講義 宿題"
   ]
  },
  {
   "cell_type": "markdown",
   "metadata": {
    "id": "gAjuP7I4lWyn"
   },
   "source": [
    "## 課題\n",
    "\n",
    "今回のLessonで学んだことを元に，MNISTのファッション版 (Fashion MNIST，クラス数10) を多層パーセプトロンによって分類してみましょう．\n",
    "\n",
    "Fashion MNISTの詳細については以下のリンクを参考にしてください．\n",
    "\n",
    "Fashion MNIST: https://github.com/zalandoresearch/fashion-mnist"
   ]
  },
  {
   "cell_type": "markdown",
   "metadata": {
    "id": "Cpiz19GRlZ_9"
   },
   "source": [
    "### 目標値\n",
    "\n",
    "Accuracy 85%"
   ]
  },
  {
   "cell_type": "markdown",
   "metadata": {
    "id": "qSHeI_utleEN"
   },
   "source": [
    "### ルール\n",
    "\n",
    "- 訓練データは`x_train`， `t_train`，テストデータは`x_test`で与えられます．\n",
    "- 予測ラベルは one_hot表現ではなく0~9のクラスラベル で表してください．\n",
    "- **下のセルで指定されている`x_train`，`t_train`以外の学習データは使わないでください．**\n",
    "- **多層パーセプトロンのアルゴリズム部分は第3回の演習を参考に，NumPyのみで実装してください．** (sklearnやtensorflowなどは使用しないでください)．\n",
    "    - データの前処理部分でsklearnの関数を使う (例えば `sklearn.model_selection.train_test_split`) のは問題ありません．"
   ]
  },
  {
   "cell_type": "markdown",
   "metadata": {
    "id": "diuec-_YluI6"
   },
   "source": [
    "### 提出方法\n",
    "- 2つのファイルを提出していただきます．\n",
    "    1. テストデータ (`x_test`) に対する予測ラベルを`submission_pred.csv`として保存し，**Omnicampusの宿題タブから「第3回 ニューラルネットワーク基礎」を選択して**提出してください．\n",
    "    2. それに対応するpythonのコードを`submission_code.py`として保存し，**Omnicampusの宿題タブから「第3回 ニューラルネットワーク基礎 (code)」を選択して**提出してください．pythonファイル自体の提出ではなく，「提出内容」の部分にコードをコピー&ペーストしてください．\n",
    "      \n",
    "- なお，採点は1で行い，2はコードの確認用として利用します（成績優秀者はコード内容を公開させていただくかもしれません）．コードの内容を変更した場合は，**1と2の両方を提出し直してください**．"
   ]
  },
  {
   "cell_type": "markdown",
   "metadata": {
    "id": "hofSzJsVlvKp"
   },
   "source": [
    "### 評価方法\n",
    "- 予測ラベルの`t_test`に対する精度 (Accuracy) で評価します．\n",
    "- 即時採点しLeader Boardを更新します（採点スケジュールは別アナウンス）．\n",
    "- 締切時の点数を最終的な評価とします．"
   ]
  },
  {
   "cell_type": "markdown",
   "metadata": {
    "id": "YY9xMqFk8X5g"
   },
   "source": [
    "### ドライブのマウント"
   ]
  },
  {
   "cell_type": "code",
   "execution_count": null,
   "metadata": {
    "id": "bxtkyWpYv07M"
   },
   "outputs": [],
   "source": [
    "from google.colab import drive\n",
    "drive.mount('/content/drive')"
   ]
  },
  {
   "cell_type": "markdown",
   "metadata": {
    "id": "Cu4cmQtelx19"
   },
   "source": [
    "### データの読み込み（このセルは修正しないでください）"
   ]
  },
  {
   "cell_type": "code",
   "execution_count": null,
   "metadata": {
    "id": "EsLDDSUJkRx-"
   },
   "outputs": [],
   "source": [
    "import os\n",
    "import numpy as np\n",
    "import pandas as pd\n",
    "from sklearn.utils import shuffle\n",
    "from sklearn.metrics import accuracy_score\n",
    "from sklearn.model_selection import train_test_split\n",
    "import inspect\n",
    "\n",
    "\n",
    "#学習データ\n",
    "x_train = np.load('drive/MyDrive/Colab Notebooks/DLBasics2025_colab/Lecture03/data/x_train.npy')\n",
    "t_train = np.load('drive/MyDrive/Colab Notebooks/DLBasics2025_colab/Lecture03/data/y_train.npy')\n",
    "\n",
    "#テストデータ\n",
    "x_test = np.load('drive/MyDrive/Colab Notebooks/DLBasics2025_colab/Lecture03/data/x_test.npy')\n",
    "\n",
    "# データの前処理（正規化， one-hot encoding)\n",
    "x_train, x_test = x_train / 255., x_test / 255.\n",
    "x_train, x_test = x_train.reshape(x_train.shape[0], -1), x_test.reshape(x_test.shape[0], -1)\n",
    "t_train = np.eye(N=10)[t_train.astype(\"int32\").flatten()]"
   ]
  },
  {
   "cell_type": "code",
   "execution_count": 1,
   "metadata": {},
   "outputs": [],
   "source": [
    "import os\n",
    "import numpy as np\n",
    "import pandas as pd\n",
    "from sklearn.utils import shuffle\n",
    "from sklearn.metrics import accuracy_score\n",
    "from sklearn.model_selection import train_test_split\n",
    "import inspect\n",
    "\n",
    "\n",
    "#学習データ\n",
    "x_train = np.load('x_train.npy')\n",
    "t_train = np.load('y_train.npy')\n",
    "\n",
    "#テストデータ\n",
    "x_test = np.load('x_test.npy')\n",
    "\n",
    "# データの前処理（正規化， one-hot encoding)\n",
    "x_train, x_test = x_train / 255., x_test / 255.\n",
    "x_train, x_test = x_train.reshape(x_train.shape[0], -1), x_test.reshape(x_test.shape[0], -1)\n",
    "t_train = np.eye(N=10)[t_train.astype(\"int32\").flatten()]"
   ]
  },
  {
   "cell_type": "markdown",
   "metadata": {
    "id": "UrSpHDIWOfK_"
   },
   "source": [
    "### 多層パーセプトロンの実装"
   ]
  },
  {
   "cell_type": "code",
   "execution_count": 2,
   "metadata": {
    "id": "sKAe0F36nSvU"
   },
   "outputs": [],
   "source": [
    "# データの分割\n",
    "x_train, x_val, t_train, t_val =\\\n",
    "    train_test_split(x_train, t_train, test_size=10000)"
   ]
  },
  {
   "cell_type": "code",
   "execution_count": 3,
   "metadata": {
    "id": "IlzwRoG5X7ZP"
   },
   "outputs": [],
   "source": [
    "def np_log(x):\n",
    "    return np.log(np.clip(x, 1e-10, 1e+10))\n",
    "\n",
    "\n",
    "def create_batch(data, batch_size):\n",
    "    \"\"\"\n",
    "    :param data: np.ndarray，入力データ\n",
    "    :param batch_size: int，バッチサイズ\n",
    "    \"\"\"\n",
    "    num_batches, mod = divmod(data.shape[0], batch_size)\n",
    "    batched_data = np.split(data[: batch_size * num_batches], num_batches)\n",
    "    if mod:\n",
    "        batched_data.append(data[batch_size * num_batches:])\n",
    "\n",
    "    return batched_data"
   ]
  },
  {
   "cell_type": "code",
   "execution_count": null,
   "metadata": {
    "id": "PADQiKNa2snb"
   },
   "outputs": [],
   "source": [
    "# シード値を変えることで何が起きるかも確かめてみてください．\n",
    "rng = np.random.RandomState(1234)\n",
    "random_state = 42\n",
    "\n",
    "\n",
    "# 発展: 今回の講義で扱っていない活性化関数について調べ，実装してみましょう\n",
    "def relu(x):\n",
    "    return np.maximum(0, x)\n",
    "\n",
    "\n",
    "def deriv_relu(x):\n",
    "    return (x > 0).astype(x.dtype)\n",
    "\n",
    "\n",
    "def softmax(x):\n",
    "    x -= x.max(axis=1, keepdims=True)\n",
    "    x_exp = np.exp(x)\n",
    "    return x_exp / x_exp.sum(axis=1, keepdims=True)\n",
    "\n",
    "\n",
    "def deriv_softmax(x):\n",
    "    s = softmax(x)\n",
    "    return s * (1 - s)\n",
    "\n",
    "\n",
    "def crossentropy_loss(t, y):\n",
    "    return (-np.sum(t * np_log(y), axis=1)).mean()\n",
    "\n",
    "class Dense:\n",
    "    def __init__(self, in_dim, out_dim, function, deriv_function):\n",
    "        self.W = np.random.uniform(low=-0.08, high=0.08, size=(in_dim, out_dim)).astype(\"float64\")\n",
    "        self.b = np.zeros(out_dim).astype(\"float64\")\n",
    "        self.function = function\n",
    "        self.deriv_function = deriv_function\n",
    "        \n",
    "        self.x = None\n",
    "        self.u = None\n",
    "\n",
    "        self.dW = None\n",
    "        self.db = None\n",
    "\n",
    "        self.params_idxs = np.cumsum([self.W.size, self.b.size])\n",
    "    \n",
    "    def __call__(self, x):\n",
    "        self.x = x\n",
    "        self.u = np.matmul(self.x, self.W) + self.b\n",
    "        h = self.function(self.u)\n",
    "        return h\n",
    "    \n",
    "    def b_prop(self, delta, W):\n",
    "        self.delta = self.deriv_function(self.u) * np.matmul(delta, W.T)\n",
    "        return self.delta\n",
    "    \n",
    "    def compute_grad(self):\n",
    "        batch_size = self.delta.shape[0]\n",
    "        self.dW = np.matmul(self.x.T, self.delta) / batch_size\n",
    "        self.db = np.matmul(np.ones(batch_size), self.delta) / batch_size\n",
    "    \n",
    "    def get_params(self):\n",
    "        return np.concatenate([self.W.ravel(), self.b], axis=0)\n",
    "    \n",
    "    def set_params(self, params):\n",
    "        _W, _b = np.split(params, self.params_idxs[:-1])\n",
    "        self.W = _W.reshape(self.W.shape)\n",
    "        self.b = _b\n",
    "\n",
    "    def get_grads(self):\n",
    "        return np.concatenate([self.dW.ravel(), self.db], axis=0)\n",
    "\n",
    "class Model:\n",
    "    def __init__(self, hidden_dims, activation_functions, deriv_functions):\n",
    "        self.layers = []\n",
    "        for i in range(len(hidden_dims) - 2):\n",
    "            self.layers.append(Dense(hidden_dims[i], hidden_dims[i + 1], activation_functions[i], deriv_functions[i]))\n",
    "        self.layers.append(Dense(hidden_dims[-2], hidden_dims[-1], activation_functions[-1], deriv_functions[-1]))\n",
    "    \n",
    "    def __call__(self, x):\n",
    "        return self.forward(x)\n",
    "\n",
    "    def forward(self, x):\n",
    "        for layer in self.layers:\n",
    "            x = layer(x)\n",
    "        return x\n",
    "    \n",
    "    def backward(self, delta):\n",
    "        batch_size = delta.shape[0]\n",
    "\n",
    "        for i, layer in enumerate(self.layers[::-1]):\n",
    "            if i == 0:\n",
    "                layer.delta = delta\n",
    "                layer.compute_grad()\n",
    "            else:\n",
    "                delta = layer.b_prop(delta, W)\n",
    "                layer.compute_grad()\n",
    "            \n",
    "            W = layer.W\n",
    "    \n",
    "    def update(self, eps=0.01):\n",
    "        for layer in self.layers:\n",
    "            layer.W -= eps * layer.dW\n",
    "            layer.b -= eps * layer.db\n",
    "lr = 0.01\n",
    "n_epochs = 100\n",
    "batch_size = 32\n"
   ]
  },
  {
   "cell_type": "markdown",
   "metadata": {
    "id": "I1IXxVHfT9O9"
   },
   "source": [
    "### モデルの学習"
   ]
  },
  {
   "cell_type": "code",
   "execution_count": 29,
   "metadata": {
    "id": "iUrJQQhUlfCi"
   },
   "outputs": [
    {
     "name": "stdout",
     "output_type": "stream",
     "text": [
      "EPOCH: 0, Train [Loss: 0.726, Accuracy: 0.738], Valid [Loss: 0.538, Accuracy: 0.811]\n",
      "EPOCH: 1, Train [Loss: 0.458, Accuracy: 0.836], Valid [Loss: 0.567, Accuracy: 0.799]\n",
      "EPOCH: 2, Train [Loss: 0.407, Accuracy: 0.852], Valid [Loss: 0.407, Accuracy: 0.854]\n",
      "EPOCH: 3, Train [Loss: 0.376, Accuracy: 0.863], Valid [Loss: 0.386, Accuracy: 0.858]\n",
      "EPOCH: 4, Train [Loss: 0.356, Accuracy: 0.870], Valid [Loss: 0.385, Accuracy: 0.860]\n",
      "EPOCH: 5, Train [Loss: 0.339, Accuracy: 0.876], Valid [Loss: 0.342, Accuracy: 0.876]\n",
      "EPOCH: 6, Train [Loss: 0.327, Accuracy: 0.879], Valid [Loss: 0.336, Accuracy: 0.877]\n",
      "EPOCH: 7, Train [Loss: 0.313, Accuracy: 0.885], Valid [Loss: 0.341, Accuracy: 0.872]\n",
      "EPOCH: 8, Train [Loss: 0.304, Accuracy: 0.887], Valid [Loss: 0.339, Accuracy: 0.872]\n",
      "EPOCH: 9, Train [Loss: 0.293, Accuracy: 0.891], Valid [Loss: 0.350, Accuracy: 0.869]\n",
      "EPOCH: 10, Train [Loss: 0.285, Accuracy: 0.894], Valid [Loss: 0.348, Accuracy: 0.875]\n",
      "Learning rate reduced to 0.04000\n",
      "EPOCH: 11, Train [Loss: 0.268, Accuracy: 0.900], Valid [Loss: 0.308, Accuracy: 0.887]\n",
      "EPOCH: 12, Train [Loss: 0.261, Accuracy: 0.903], Valid [Loss: 0.310, Accuracy: 0.887]\n",
      "EPOCH: 13, Train [Loss: 0.255, Accuracy: 0.904], Valid [Loss: 0.311, Accuracy: 0.886]\n",
      "EPOCH: 14, Train [Loss: 0.249, Accuracy: 0.908], Valid [Loss: 0.309, Accuracy: 0.887]\n",
      "EPOCH: 15, Train [Loss: 0.245, Accuracy: 0.909], Valid [Loss: 0.307, Accuracy: 0.886]\n",
      "EPOCH: 16, Train [Loss: 0.238, Accuracy: 0.911], Valid [Loss: 0.314, Accuracy: 0.887]\n",
      "EPOCH: 17, Train [Loss: 0.234, Accuracy: 0.912], Valid [Loss: 0.310, Accuracy: 0.892]\n",
      "EPOCH: 18, Train [Loss: 0.227, Accuracy: 0.915], Valid [Loss: 0.310, Accuracy: 0.887]\n",
      "EPOCH: 19, Train [Loss: 0.222, Accuracy: 0.917], Valid [Loss: 0.313, Accuracy: 0.888]\n",
      "Learning rate reduced to 0.03200\n",
      "EPOCH: 20, Train [Loss: 0.212, Accuracy: 0.921], Valid [Loss: 0.314, Accuracy: 0.885]\n",
      "EPOCH: 21, Train [Loss: 0.207, Accuracy: 0.922], Valid [Loss: 0.315, Accuracy: 0.887]\n",
      "EPOCH: 22, Train [Loss: 0.203, Accuracy: 0.925], Valid [Loss: 0.315, Accuracy: 0.888]\n",
      "EPOCH: 23, Train [Loss: 0.200, Accuracy: 0.926], Valid [Loss: 0.303, Accuracy: 0.894]\n",
      "EPOCH: 24, Train [Loss: 0.196, Accuracy: 0.927], Valid [Loss: 0.319, Accuracy: 0.886]\n",
      "EPOCH: 25, Train [Loss: 0.192, Accuracy: 0.930], Valid [Loss: 0.319, Accuracy: 0.892]\n",
      "EPOCH: 26, Train [Loss: 0.190, Accuracy: 0.929], Valid [Loss: 0.330, Accuracy: 0.885]\n",
      "EPOCH: 27, Train [Loss: 0.186, Accuracy: 0.931], Valid [Loss: 0.321, Accuracy: 0.887]\n",
      "Learning rate reduced to 0.02560\n",
      "EPOCH: 28, Train [Loss: 0.176, Accuracy: 0.935], Valid [Loss: 0.326, Accuracy: 0.888]\n",
      "EPOCH: 29, Train [Loss: 0.172, Accuracy: 0.937], Valid [Loss: 0.315, Accuracy: 0.894]\n",
      "EPOCH: 30, Train [Loss: 0.169, Accuracy: 0.938], Valid [Loss: 0.322, Accuracy: 0.893]\n",
      "EPOCH: 31, Train [Loss: 0.168, Accuracy: 0.938], Valid [Loss: 0.321, Accuracy: 0.894]\n",
      "Learning rate reduced to 0.02048\n",
      "EPOCH: 32, Train [Loss: 0.158, Accuracy: 0.941], Valid [Loss: 0.314, Accuracy: 0.894]\n",
      "EPOCH: 33, Train [Loss: 0.156, Accuracy: 0.943], Valid [Loss: 0.315, Accuracy: 0.896]\n",
      "EPOCH: 34, Train [Loss: 0.153, Accuracy: 0.944], Valid [Loss: 0.329, Accuracy: 0.893]\n",
      "EPOCH: 35, Train [Loss: 0.151, Accuracy: 0.945], Valid [Loss: 0.336, Accuracy: 0.891]\n",
      "Learning rate reduced to 0.01638\n",
      "EPOCH: 36, Train [Loss: 0.144, Accuracy: 0.947], Valid [Loss: 0.318, Accuracy: 0.896]\n",
      "EPOCH: 37, Train [Loss: 0.142, Accuracy: 0.948], Valid [Loss: 0.321, Accuracy: 0.894]\n",
      "EPOCH: 38, Train [Loss: 0.140, Accuracy: 0.949], Valid [Loss: 0.330, Accuracy: 0.893]\n",
      "EPOCH: 39, Train [Loss: 0.138, Accuracy: 0.950], Valid [Loss: 0.328, Accuracy: 0.894]\n",
      "Learning rate reduced to 0.01311\n",
      "EPOCH: 40, Train [Loss: 0.132, Accuracy: 0.953], Valid [Loss: 0.324, Accuracy: 0.897]\n",
      "EPOCH: 41, Train [Loss: 0.130, Accuracy: 0.954], Valid [Loss: 0.328, Accuracy: 0.896]\n",
      "EPOCH: 42, Train [Loss: 0.129, Accuracy: 0.954], Valid [Loss: 0.330, Accuracy: 0.894]\n",
      "EPOCH: 43, Train [Loss: 0.128, Accuracy: 0.954], Valid [Loss: 0.347, Accuracy: 0.889]\n",
      "Learning rate reduced to 0.01049\n",
      "EPOCH: 44, Train [Loss: 0.122, Accuracy: 0.957], Valid [Loss: 0.332, Accuracy: 0.896]\n",
      "EPOCH: 45, Train [Loss: 0.121, Accuracy: 0.957], Valid [Loss: 0.335, Accuracy: 0.895]\n",
      "EPOCH: 46, Train [Loss: 0.120, Accuracy: 0.957], Valid [Loss: 0.339, Accuracy: 0.894]\n",
      "EPOCH: 47, Train [Loss: 0.119, Accuracy: 0.958], Valid [Loss: 0.346, Accuracy: 0.893]\n",
      "Learning rate reduced to 0.00839\n",
      "EPOCH: 48, Train [Loss: 0.114, Accuracy: 0.961], Valid [Loss: 0.332, Accuracy: 0.895]\n",
      "EPOCH: 49, Train [Loss: 0.113, Accuracy: 0.961], Valid [Loss: 0.338, Accuracy: 0.896]\n"
     ]
    }
   ],
   "source": [
    "def train_model(mlp, x_train, t_train, x_val, t_val, n_epochs=10):\n",
    "    best_valid_cost = float('inf')\n",
    "    patience = 0\n",
    "    patience_threshold = 3\n",
    "    improvement_threshold = 1e-4\n",
    "    eps_reduction_factor = 0.8\n",
    "    eps_minimum_threshold = 0.001\n",
    "    eps = 0.05\n",
    "    for epoch in range(n_epochs):\n",
    "        losses_train = []\n",
    "        losses_valid = []\n",
    "        train_num = 0\n",
    "        train_true_num = 0\n",
    "        valid_num = 0\n",
    "        valid_true_num = 0\n",
    "\n",
    "        x_train, t_train = shuffle(x_train, t_train)\n",
    "        x_train_batches, t_train_batches = create_batch(x_train, batch_size), create_batch(t_train, batch_size)\n",
    "\n",
    "        x_val, t_val = shuffle(x_val, t_val)\n",
    "        x_val_batches, t_val_batches = create_batch(x_val, batch_size), create_batch(t_val, batch_size)\n",
    "\n",
    "        # モデルの訓練\n",
    "        for x, t in zip(x_train_batches, t_train_batches):\n",
    "            # 順伝播\n",
    "            y = mlp(x)\n",
    "\n",
    "            # 損失の計算\n",
    "            loss = crossentropy_loss(t, y)\n",
    "            losses_train.append(loss.tolist())\n",
    "\n",
    "            # パラメータの更新\n",
    "            delta = y - t\n",
    "            mlp.backward(delta)\n",
    "            mlp.update(eps)\n",
    "\n",
    "            # 精度を計算\n",
    "            acc = accuracy_score(t.argmax(axis=1), y.argmax(axis=1), normalize=False)\n",
    "            train_num += x.shape[0]\n",
    "            train_true_num += acc\n",
    "\n",
    "        # モデルの評価\n",
    "        for x, t in zip(x_val_batches, t_val_batches):\n",
    "            # 順伝播\n",
    "            y = mlp(x)\n",
    "\n",
    "            # 損失の計算\n",
    "            loss = crossentropy_loss(t, y)\n",
    "            losses_valid.append(loss.tolist())\n",
    "\n",
    "            acc = accuracy_score(t.argmax(axis=1), y.argmax(axis=1), normalize=False)\n",
    "            valid_num += x.shape[0]\n",
    "            valid_true_num += acc\n",
    "\n",
    "        print('EPOCH: {}, Train [Loss: {:.3f}, Accuracy: {:.3f}], Valid [Loss: {:.3f}, Accuracy: {:.3f}]'.format(\n",
    "            epoch,\n",
    "            np.mean(losses_train),\n",
    "            train_true_num/train_num,\n",
    "            np.mean(losses_valid),\n",
    "            valid_true_num/valid_num\n",
    "        ))\n",
    "\n",
    "        valid_cost = np.mean(losses_valid)\n",
    "        if best_valid_cost - valid_cost > improvement_threshold:\n",
    "            best_valid_cost = valid_cost\n",
    "            patience = 0\n",
    "        else:\n",
    "            patience += 1\n",
    "\n",
    "        if patience > patience_threshold and eps*eps_reduction_factor > eps_minimum_threshold:\n",
    "            eps *= eps_reduction_factor\n",
    "            patience = 0\n",
    "            print('Learning rate reduced to {:.5f}'.format(eps))\n",
    "\n",
    "mlp = Model(\n",
    "    hidden_dims=[784, 100, 100, 10],\n",
    "    activation_functions=[relu, relu, softmax],\n",
    "    deriv_functions=[deriv_relu, deriv_relu, deriv_softmax]\n",
    ")\n",
    "\n",
    "n_epochs = 50\n",
    "train_model(mlp, x_train, t_train, x_val, t_val, n_epochs)"
   ]
  },
  {
   "cell_type": "code",
   "execution_count": 30,
   "metadata": {
    "id": "Yq3scS5j4Rt2"
   },
   "outputs": [],
   "source": [
    "t_pred = []\n",
    "for x in x_test:\n",
    "    # 順伝播\n",
    "    x = x[np.newaxis, :]\n",
    "    y = mlp(x)\n",
    "\n",
    "    # モデルの出力を予測値のスカラーに変換\n",
    "    pred = y.argmax(1).tolist()\n",
    "\n",
    "    t_pred.extend(pred)\n",
    "\n",
    "submission = pd.Series(t_pred, name='label')\n",
    "submission.to_csv('submission_pred.csv', header=True, index_label='id')"
   ]
  }
 ],
 "metadata": {
  "colab": {
   "provenance": [],
   "toc_visible": true
  },
  "gpuClass": "standard",
  "kernelspec": {
   "display_name": ".venv",
   "language": "python",
   "name": "python3"
  },
  "language_info": {
   "codemirror_mode": {
    "name": "ipython",
    "version": 3
   },
   "file_extension": ".py",
   "mimetype": "text/x-python",
   "name": "python",
   "nbconvert_exporter": "python",
   "pygments_lexer": "ipython3",
   "version": "3.13.2"
  }
 },
 "nbformat": 4,
 "nbformat_minor": 0
}
